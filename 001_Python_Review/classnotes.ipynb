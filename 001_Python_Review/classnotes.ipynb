{
 "cells": [
  {
   "cell_type": "code",
   "execution_count": 3,
   "metadata": {},
   "outputs": [
    {
     "name": "stdout",
     "output_type": "stream",
     "text": [
      "Clarusway is the best bootcamp escape used\n"
     ]
    }
   ],
   "source": [
    "# This is a comment line\n",
    "\n",
    "name = \"Clarusway is the best bootcamp \" \\\n",
    "\"escape used\"\n",
    "print(name)"
   ]
  },
  {
   "cell_type": "code",
   "execution_count": 4,
   "metadata": {},
   "outputs": [
    {
     "name": "stdout",
     "output_type": "stream",
     "text": [
      "Brian Kane\n"
     ]
    }
   ],
   "source": [
    "name = \"Brian\"\n",
    "last_name = \"Kane\"\n",
    "\n",
    "full_name = name + \" \" + last_name\n",
    "print(full_name)"
   ]
  }
 ],
 "metadata": {
  "kernelspec": {
   "display_name": "Python 3.10.2 64-bit",
   "language": "python",
   "name": "python3"
  },
  "language_info": {
   "codemirror_mode": {
    "name": "ipython",
    "version": 3
   },
   "file_extension": ".py",
   "mimetype": "text/x-python",
   "name": "python",
   "nbconvert_exporter": "python",
   "pygments_lexer": "ipython3",
   "version": "3.10.2"
  },
  "orig_nbformat": 4,
  "vscode": {
   "interpreter": {
    "hash": "875a6aaa4a14e73d44e52317d6fe9dcf8d2fa876a96db5de4b449835783df0ad"
   }
  }
 },
 "nbformat": 4,
 "nbformat_minor": 2
}
